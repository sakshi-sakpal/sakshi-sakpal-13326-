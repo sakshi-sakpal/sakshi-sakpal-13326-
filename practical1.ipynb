{
 "cells": [
  {
   "cell_type": "code",
   "execution_count": 1,
   "id": "9fbdbdb2",
   "metadata": {},
   "outputs": [],
   "source": [
    "#A warehouse manages inventory for 5 products stored across 4 locations. The stock levels are recorded in a 2D NumPy array, where rows represent products and columns represent locations:\n",
    "import numpy as np\n",
    "#initilize an array\n",
    "arr=np.array([\n",
    "    [100, 200, 150, 300],  # Product 1\n",
    "    [50, 60, 40, 80],      # Product 2\n",
    "    [300, 400, 350, 500],  # Product 3\n",
    "    [200, 250, 220, 270],  # Product 4\n",
    "    [80, 90, 70, 100]      # Product 5\n",
    "])\n"
   ]
  },
  {
   "cell_type": "code",
   "execution_count": 2,
   "id": "62c1c452",
   "metadata": {},
   "outputs": [
    {
     "data": {
      "text/plain": [
       "20"
      ]
     },
     "execution_count": 2,
     "metadata": {},
     "output_type": "execute_result"
    }
   ],
   "source": [
    "#1 dimention of the array\n",
    "arr=np.array([\n",
    "    [100, 200, 150, 300],  # Product 1\n",
    "    [50, 60, 40, 80],      # Product 2\n",
    "    [300, 400, 350, 500],  # Product 3\n",
    "    [200, 250, 220, 270],  # Product 4\n",
    "    [80, 90, 70, 100]      # Product 5\n",
    "])\n",
    "arr.size"
   ]
  },
  {
   "cell_type": "code",
   "execution_count": 3,
   "id": "e83cf84e",
   "metadata": {},
   "outputs": [
    {
     "data": {
      "text/plain": [
       "dtype('int32')"
      ]
     },
     "execution_count": 3,
     "metadata": {},
     "output_type": "execute_result"
    }
   ],
   "source": [
    "#2 \n",
    "arr=np.array([\n",
    "    [100, 200, 150, 300],  # Product 1\n",
    "    [50, 60, 40, 80],      # Product 2\n",
    "    [300, 400, 350, 500],  # Product 3\n",
    "    [200, 250, 220, 270],  # Product 4\n",
    "    [80, 90, 70, 100]      # Product 5\n",
    "])\n",
    "\n",
    "arr.dtype"
   ]
  },
  {
   "cell_type": "code",
   "execution_count": 4,
   "id": "80a2e0e7",
   "metadata": {},
   "outputs": [
    {
     "data": {
      "text/plain": [
       "20"
      ]
     },
     "execution_count": 4,
     "metadata": {},
     "output_type": "execute_result"
    }
   ],
   "source": [
    "#3 \n",
    "    [100, 200, 150, 300],  # Product 1\n",
    "    [50, 60, 40, 80],      # Product 2\n",
    "    [300, 400, 350, 500],  # Product 3\n",
    "    [200, 250, 220, 270],  # Product 4\n",
    "    [80, 90, 70, 100]      # Product 5\n",
    "])\n",
    "arr.size"
   ]
  },
  {
   "cell_type": "code",
   "execution_count": 5,
   "id": "33f35d73",
   "metadata": {},
   "outputs": [
    {
     "data": {
      "text/plain": [
       "4"
      ]
     },
     "execution_count": 5,
     "metadata": {},
     "output_type": "execute_result"
    }
   ],
   "source": [
    "#4 \n",
    "arr=np.array([\n",
    "    [100, 200, 150, 300],  # Product 1\n",
    "    [50, 60, 40, 80],      # Product 2\n",
    "    [300, 400, 350, 500],  # Product 3\n",
    "    [200, 250, 220, 270],  # Product 4\n",
    "    [80, 90, 70, 100]      # Product 5\n",
    "])\n",
    "arr.itemsize"
   ]
  },
  {
   "cell_type": "code",
   "execution_count": 7,
   "id": "3bf56ccb",
   "metadata": {},
   "outputs": [
    {
     "data": {
      "text/plain": [
       "3810"
      ]
     },
     "execution_count": 7,
     "metadata": {},
     "output_type": "execute_result"
    }
   ],
   "source": [
    "#5 \n",
    "arr=np.array([\n",
    "    [100, 200, 150, 300],  # Product 1\n",
    "    [50, 60, 40, 80],      # Product 2\n",
    "    [300, 400, 350, 500],  # Product 3\n",
    "    [200, 250, 220, 270],  # Product 4\n",
    "    [80, 90, 70, 100]      # Product 5\n",
    "])\n",
    "arr.sum()"
   ]
  },
  {
   "cell_type": "code",
   "execution_count": 12,
   "id": "ea87f525",
   "metadata": {},
   "outputs": [
    {
     "name": "stdout",
     "output_type": "stream",
     "text": [
      "[[100 200 150 300]\n",
      " [ 50  60  40  80]\n",
      " [290 390 340 490]\n",
      " [200 250 220 270]\n",
      " [ 80  90  70 100]]\n"
     ]
    }
   ],
   "source": [
    "#6 \n",
    "arr=np.array([\n",
    "    [100, 200, 150, 300],  # Product 1\n",
    "    [50, 60, 40, 80],      # Product 2\n",
    "    [300, 400, 350, 500],  # Product 3\n",
    "    [200, 250, 220, 270],  # Product 4\n",
    "    [80, 90, 70, 100]      # Product 5\n",
    "])\n",
    "arr[2]-= 10\n",
    "print(arr)"
   ]
  },
  {
   "cell_type": "code",
   "execution_count": 15,
   "id": "9e3f62f9",
   "metadata": {},
   "outputs": [
    {
     "name": "stdout",
     "output_type": "stream",
     "text": [
      "[[120 220 170 320]\n",
      " [ 70  80  60 100]\n",
      " [320 420 370 520]\n",
      " [220 270 240 290]\n",
      " [100 110  90 120]]\n"
     ]
    }
   ],
   "source": [
    "#7 \n",
    "arr=np.array([\n",
    "    [100, 200, 150, 300],  # Product 1\n",
    "    [50, 60, 40, 80],      # Product 2\n",
    "    [300, 400, 350, 500],  # Product 3\n",
    "    [200, 250, 220, 270],  # Product 4\n",
    "    [80, 90, 70, 100]      # Product 5\n",
    "])\n",
    "arr+=20\n",
    "print(arr)"
   ]
  },
  {
   "cell_type": "code",
   "execution_count": 17,
   "id": "0bcc0454",
   "metadata": {},
   "outputs": [
    {
     "name": "stdout",
     "output_type": "stream",
     "text": [
      "[[100 400 150 300]\n",
      " [ 50 120  40  80]\n",
      " [300 800 350 500]\n",
      " [200 500 220 270]\n",
      " [ 80 180  70 100]]\n"
     ]
    }
   ],
   "source": [
    "#8 \n",
    "arr=np.array([\n",
    "    [100, 200, 150, 300],  # Product 1\n",
    "    [50, 60, 40, 80],      # Product 2\n",
    "    [300, 400, 350, 500],  # Product 3\n",
    "    [200, 250, 220, 270],  # Product 4\n",
    "    [80, 90, 70, 100]      # Product 5\n",
    "])\n",
    "arr[0:6,1]*=2\n",
    "print(arr)\n"
   ]
  },
  {
   "cell_type": "code",
   "execution_count": 3,
   "id": "1a097a5c",
   "metadata": {},
   "outputs": [
    {
     "name": "stdout",
     "output_type": "stream",
     "text": [
      "[[100 400 150 300]\n",
      " [ 50 120  40  80]\n",
      " [300 800 350 500]\n",
      " [200 500 220 270]\n",
      " [ 80 180  70 100]]\n"
     ]
    }
   ],
   "source": [
    "#9 \n",
    "arr=np.array([\n",
    "    [100, 200, 150, 300],  # Product 1\n",
    "    [50, 60, 40, 80],      # Product 2\n",
    "    [300, 400, 350, 500],  # Product 3\n",
    "    [200, 250, 220, 270],  # Product 4\n",
    "    [80, 90, 70, 100]      # Product 5\n",
    "])\n",
    "arr[0:6,1]*=2\n",
    "print(arr)"
   ]
  },
  {
   "cell_type": "code",
   "execution_count": 4,
   "id": "7ae45ecb",
   "metadata": {},
   "outputs": [
    {
     "data": {
      "text/plain": [
       "array([ 730, 1000,  830, 1250])"
      ]
     },
     "execution_count": 4,
     "metadata": {},
     "output_type": "execute_result"
    }
   ],
   "source": [
    "#10.\n",
    "import numpy as np\n",
    "arr=np.array([\n",
    "    [100, 200, 150, 300],  # Product 1\n",
    "    [50, 60, 40, 80],      # Product 2\n",
    "    [300, 400, 350, 500],  # Product 3\n",
    "    [200, 250, 220, 270],  # Product 4\n",
    "    [80, 90, 70, 100]      # Product 5\n",
    "])\n",
    "np.sum(arr,axis=0)"
   ]
  },
  {
   "cell_type": "code",
   "execution_count": 5,
   "id": "2a0f1ef8",
   "metadata": {},
   "outputs": [
    {
     "data": {
      "text/plain": [
       "array([300, 400, 350, 500])"
      ]
     },
     "execution_count": 5,
     "metadata": {},
     "output_type": "execute_result"
    }
   ],
   "source": [
    "#11\n",
    "import numpy as np\n",
    "arr=np.array([\n",
    "    [100, 200, 150, 300],  # Product 1\n",
    "    [50, 60, 40, 80],      # Product 2\n",
    "    [300, 400, 350, 500],  # Product 3\n",
    "    [200, 250, 220, 270],  # Product 4\n",
    "    [80, 90, 70, 100]      # Product 5\n",
    "])\n",
    "np.max(arr,axis=0)"
   ]
  },
  {
   "cell_type": "code",
   "execution_count": 6,
   "id": "cacde9cc",
   "metadata": {},
   "outputs": [
    {
     "data": {
      "text/plain": [
       "array([ 750,  230, 1550,  940,  340])"
      ]
     },
     "execution_count": 6,
     "metadata": {},
     "output_type": "execute_result"
    }
   ],
   "source": [
    "#12\n",
    "import numpy as np\n",
    "arr=np.array([\n",
    "    [100, 200, 150, 300],  # Product 1\n",
    "    [50, 60, 40, 80],      # Product 2\n",
    "    [300, 400, 350, 500],  # Product 3\n",
    "    [200, 250, 220, 270],  # Product 4\n",
    "    [80, 90, 70, 100]      # Product 5\n",
    "])\n",
    "np.sum(arr,axis=1)"
   ]
  },
  {
   "cell_type": "code",
   "execution_count": 7,
   "id": "5b074f8c",
   "metadata": {},
   "outputs": [
    {
     "data": {
      "text/plain": [
       "array([100,  40, 300, 200,  70])"
      ]
     },
     "execution_count": 7,
     "metadata": {},
     "output_type": "execute_result"
    }
   ],
   "source": [
    "#13\n",
    "import numpy as np\n",
    "arr=np.array([\n",
    "    [100, 200, 150, 300],  # Product 1\n",
    "    [50, 60, 40, 80],      # Product 2\n",
    "    [300, 400, 350, 500],  # Product 3\n",
    "    [200, 250, 220, 270],  # Product 4\n",
    "    [80, 90, 70, 100]      # Product 5\n",
    "])\n",
    "np.min(arr,axis=1)"
   ]
  },
  {
   "cell_type": "code",
   "execution_count": 9,
   "id": "436d79d1",
   "metadata": {},
   "outputs": [
    {
     "data": {
      "text/plain": [
       "array([187.5,  57.5, 387.5, 235. ,  85. ])"
      ]
     },
     "execution_count": 9,
     "metadata": {},
     "output_type": "execute_result"
    }
   ],
   "source": [
    "#14\n",
    "import numpy as np\n",
    "arr=np.array([\n",
    "    [100, 200, 150, 300],  # Product 1\n",
    "    [50, 60, 40, 80],      # Product 2\n",
    "    [300, 400, 350, 500],  # Product 3\n",
    "    [200, 250, 220, 270],  # Product 4\n",
    "    [80, 90, 70, 100]      # Product 5\n",
    "])\n",
    "np.mean(arr,axis=1)"
   ]
  },
  {
   "cell_type": "code",
   "execution_count": 11,
   "id": "87ceeb53",
   "metadata": {},
   "outputs": [
    {
     "data": {
      "text/plain": [
       "array([50, 60, 40, 80])"
      ]
     },
     "execution_count": 11,
     "metadata": {},
     "output_type": "execute_result"
    }
   ],
   "source": [
    "#15\n",
    "import numpy as np\n",
    "arr=np.array([\n",
    "    [100, 200, 150, 300],  # Product 1\n",
    "    [50, 60, 40, 80],      # Product 2\n",
    "    [300, 400, 350, 500],  # Product 3\n",
    "    [200, 250, 220, 270],  # Product 4\n",
    "    [80, 90, 70, 100]      # Product 5\n",
    "])\n",
    "arr[1]"
   ]
  },
  {
   "cell_type": "code",
   "execution_count": 12,
   "id": "b8018014",
   "metadata": {},
   "outputs": [
    {
     "data": {
      "text/plain": [
       "array([300,  80, 500, 270, 100])"
      ]
     },
     "execution_count": 12,
     "metadata": {},
     "output_type": "execute_result"
    }
   ],
   "source": [
    "#16\n",
    "import numpy as np\n",
    "arr=np.array([\n",
    "    [100, 200, 150, 300],  # Product 1\n",
    "    [50, 60, 40, 80],      # Product 2\n",
    "    [300, 400, 350, 500],  # Product 3\n",
    "    [200, 250, 220, 270],  # Product 4\n",
    "    [80, 90, 70, 100]      # Product 5\n",
    "])\n",
    "arr[:,3]"
   ]
  },
  {
   "cell_type": "code",
   "execution_count": 14,
   "id": "818e49f7",
   "metadata": {},
   "outputs": [
    {
     "data": {
      "text/plain": [
       "array([[100, 200],\n",
       "       [ 50,  60],\n",
       "       [300, 400]])"
      ]
     },
     "execution_count": 14,
     "metadata": {},
     "output_type": "execute_result"
    }
   ],
   "source": [
    "#17\n",
    "import numpy as np\n",
    "arr=np.array([\n",
    "    [100, 200, 150, 300],  # Product 1\n",
    "    [50, 60, 40, 80],      # Product 2\n",
    "    [300, 400, 350, 500],  # Product 3\n",
    "    [200, 250, 220, 270],  # Product 4\n",
    "    [80, 90, 70, 100]      # Product 5\n",
    "])\n",
    "arr[0:3,0:2]"
   ]
  },
  {
   "cell_type": "code",
   "execution_count": 19,
   "id": "852eb012",
   "metadata": {},
   "outputs": [
    {
     "data": {
      "text/plain": [
       "array([[220, 270],\n",
       "       [ 70, 100]])"
      ]
     },
     "execution_count": 19,
     "metadata": {},
     "output_type": "execute_result"
    }
   ],
   "source": [
    "#18\n",
    "import numpy as np\n",
    "arr=np.array([\n",
    "    [100, 200, 150, 300],  # Product 1\n",
    "    [50, 60, 40, 80],      # Product 2\n",
    "    [300, 400, 350, 500],  # Product 3\n",
    "    [200, 250, 220, 270],  # Product 4\n",
    "    [80, 90, 70, 100]      # Product 5\n",
    "])\n",
    "arr[3:6,2:4]"
   ]
  },
  {
   "cell_type": "code",
   "execution_count": 20,
   "id": "2cc5b567",
   "metadata": {},
   "outputs": [
    {
     "data": {
      "text/plain": [
       "array([[100]])"
      ]
     },
     "execution_count": 20,
     "metadata": {},
     "output_type": "execute_result"
    }
   ],
   "source": [
    "#19\n",
    "import numpy as np\n",
    "arr=np.array([\n",
    "    [100, 200, 150, 300],  # Product 1\n",
    "    [50, 60, 40, 80],      # Product 2\n",
    "    [300, 400, 350, 500],  # Product 3\n",
    "    [200, 250, 220, 270],  # Product 4\n",
    "    [80, 90, 70, 100]      # Product 5\n",
    "])\n",
    "arr[4:6,3:4]"
   ]
  },
  {
   "cell_type": "code",
   "execution_count": 21,
   "id": "cdae227f",
   "metadata": {},
   "outputs": [
    {
     "data": {
      "text/plain": [
       "array([100,220])"
      ]
     },
     "execution_count": 21,
     "metadata": {},
     "output_type": "execute_result"
    }
   ],
   "source": [
    "#20\n",
    "import numpy as np\n",
    "arr=np.array([\n",
    "    [100, 200, 150, 300],  # Product 1\n",
    "    [50, 60, 40, 80],      # Product 2\n",
    "    [300, 400, 350, 500],  # Product 3\n",
    "    [200, 250, 220, 270],  # Product 4\n",
    "    [80, 90, 70, 100]      # Product 5\n",
    "])\n",
    "stock_level=arr[[0,3],[0,2]]\n",
    "stock_level"
   ]
  },
  {
   "cell_type": "code",
   "execution_count": 22,
   "id": "d3c34160",
   "metadata": {},
   "outputs": [
    {
     "name": "stdout",
     "output_type": "stream",
     "text": [
      "[[100 200 150 300]\n",
      " [ 50  60  40 100]\n",
      " [300 400 350 500]\n",
      " [200 250 220 270]\n",
      " [ 80  90  70 100]]\n"
     ]
    }
   ],
   "source": [
    "#21\n",
    "import numpy as np\n",
    "arr=np.array([\n",
    "    [100, 200, 150, 300],  # Product 1\n",
    "    [50, 60, 40, 80],      # Product 2\n",
    "    [300, 400, 350, 500],  # Product 3\n",
    "    [200, 250, 220, 270],  # Product 4\n",
    "    [80, 90, 70, 100]      # Product 5\n",
    "])\n",
    "arr[1, 3] = 100\n",
    "print(arr)"
   ]
  },
  {
   "cell_type": "code",
   "execution_count": null,
   "id": "6bd27e94",
   "metadata": {},
   "outputs": [],
   "source": []
  }
 ],
 "metadata": {
  "kernelspec": {
   "display_name": "Python 3 (ipykernel)",
   "language": "python",
   "name": "python3"
  },
  "language_info": {
   "codemirror_mode": {
    "name": "ipython",
    "version": 3
   },
   "file_extension": ".py",
   "mimetype": "text/x-python",
   "name": "python",
   "nbconvert_exporter": "python",
   "pygments_lexer": "ipython3",
   "version": "3.11.4"
  }
 },
 "nbformat": 4,
 "nbformat_minor": 5
}
